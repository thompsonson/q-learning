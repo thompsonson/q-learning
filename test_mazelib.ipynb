{
 "cells": [
  {
   "cell_type": "code",
   "execution_count": null,
   "metadata": {},
   "outputs": [],
   "source": [
    "from mazelib import Maze\n",
    "from mazelib.generate.Sidewinder import Sidewinder\n",
    "\n",
    "size = 10\n",
    "\n",
    "m = Maze()\n",
    "m.generator = Sidewinder(size, size)\n",
    "m.generate()\n",
    "m.generate_entrances()\n",
    "print(m)"
   ]
  },
  {
   "cell_type": "code",
   "execution_count": null,
   "metadata": {},
   "outputs": [],
   "source": [
    "import time\n",
    "from typing import Type, List\n",
    "from mazelib import Maze\n",
    "from mazelib.generate.Prims import Prims\n",
    "from mazelib.generate.Kruskal import Kruskal \n",
    "from mazelib.generate.BinaryTree import BinaryTree\n",
    "from mazelib.generate.Sidewinder import Sidewinder\n",
    "\n",
    "def test_algorithm(algo_class: Type, size: int, trials: int = 1) -> float:\n",
    "   times = []\n",
    "   print(f\"\\nTesting {algo_class.__name__} at size {size}x{size}\")\n",
    "   for trial in range(trials):\n",
    "       print(f\"  Trial {trial + 1}/{trials}...\", end=\" \", flush=True)\n",
    "       m = Maze()\n",
    "       m.generator = algo_class(size, size)\n",
    "       start = time.perf_counter()\n",
    "       m.generate()\n",
    "       m.generate_entrances()\n",
    "       trial_time = time.perf_counter() - start\n",
    "       times.append(trial_time)\n",
    "       print(f\"{trial_time:.2f}s\")\n",
    "   avg_time = sum(times) / len(times)\n",
    "   print(f\"  Average: {avg_time:.2f}s\")\n",
    "   return avg_time\n",
    "\n",
    "algorithms = [BinaryTree, Sidewinder, Kruskal, Prims]\n",
    "sizes = [10, 100]\n",
    "\n",
    "results = {}\n",
    "for size in sizes:\n",
    "   print(f\"\\n{'='*50}\")\n",
    "   print(f\"Testing size {size}x{size}\")\n",
    "   for algo in algorithms:\n",
    "       if algo.__name__ not in results:\n",
    "           results[algo.__name__] = []\n",
    "       try:\n",
    "           avg_time = test_algorithm(algo, size)\n",
    "           results[algo.__name__].append((size, avg_time))\n",
    "       except Exception as e:\n",
    "           print(f\"Error with {algo.__name__}: {e}\")\n",
    "           continue\n",
    "\n",
    "print(\"\\nFinal Results:\")\n",
    "for algo, data in results.items():\n",
    "   print(f\"\\n{algo}:\")\n",
    "   for size, time in data:\n",
    "       print(f\"  {size}x{size}: {time:.2f}s\")"
   ]
  }
 ],
 "metadata": {
  "kernelspec": {
   "display_name": ".venv",
   "language": "python",
   "name": "python3"
  },
  "language_info": {
   "codemirror_mode": {
    "name": "ipython",
    "version": 3
   },
   "file_extension": ".py",
   "mimetype": "text/x-python",
   "name": "python",
   "nbconvert_exporter": "python",
   "pygments_lexer": "ipython3",
   "version": "3.10.12"
  }
 },
 "nbformat": 4,
 "nbformat_minor": 2
}
